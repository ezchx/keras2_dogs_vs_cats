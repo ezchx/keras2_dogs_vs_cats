{
 "cells": [
  {
   "cell_type": "markdown",
   "metadata": {},
   "source": [
    "# Dog and Cat Image File Mover"
   ]
  },
  {
   "cell_type": "code",
   "execution_count": null,
   "metadata": {
    "collapsed": true
   },
   "outputs": [],
   "source": [
    "import os"
   ]
  },
  {
   "cell_type": "code",
   "execution_count": 26,
   "metadata": {
    "collapsed": true
   },
   "outputs": [],
   "source": [
    "rawdir = 'data/dogscats/raw/'"
   ]
  },
  {
   "cell_type": "code",
   "execution_count": 27,
   "metadata": {
    "collapsed": true
   },
   "outputs": [],
   "source": [
    "for fn in os.listdir(rawdir):\n",
    "    if (\"jpg\" in fn):\n",
    "        if (\"dog\" in fn):\n",
    "            os.rename(rawdir + fn, 'data/dogscats/train/dogs/' + fn)\n",
    "            #print (fn)\n",
    "        if (\"cat\" in fn):\n",
    "            os.rename(rawdir + fn, 'data/dogscats/train/cats/' + fn)\n",
    "            #print (fn)"
   ]
  },
  {
   "cell_type": "code",
   "execution_count": 28,
   "metadata": {
    "collapsed": true
   },
   "outputs": [],
   "source": [
    "from random import randint\n",
    "import os.path"
   ]
  },
  {
   "cell_type": "code",
   "execution_count": 30,
   "metadata": {
    "collapsed": true
   },
   "outputs": [],
   "source": [
    "for i in range(1000):\n",
    "\n",
    "    #dogs\n",
    "    while True:\n",
    "        randy = randint(0, 12499)\n",
    "        fname = 'data/dogscats/train/dogs/dog.' + str(randy) + '.jpg'\n",
    "        if os.path.isfile(fname):\n",
    "            os.rename(fname, 'data/dogscats/valid/dogs/dog.' + str(randy) + '.jpg')\n",
    "            break\n",
    "        \n",
    "    # cats\n",
    "    while True:\n",
    "        randy = randint(0, 12499)\n",
    "        fname = 'data/dogscats/train/cats/cat.' + str(randy) + '.jpg'\n",
    "        if os.path.isfile(fname):\n",
    "            os.rename(fname, 'data/dogscats/valid/cats/cat.' + str(randy) + '.jpg')\n",
    "            break\n",
    "        "
   ]
  },
  {
   "cell_type": "code",
   "execution_count": null,
   "metadata": {
    "collapsed": true
   },
   "outputs": [],
   "source": []
  },
  {
   "cell_type": "code",
   "execution_count": null,
   "metadata": {
    "collapsed": true
   },
   "outputs": [],
   "source": []
  }
 ],
 "metadata": {
  "kernelspec": {
   "display_name": "Python 3",
   "language": "python",
   "name": "python3"
  },
  "language_info": {
   "codemirror_mode": {
    "name": "ipython",
    "version": 3
   },
   "file_extension": ".py",
   "mimetype": "text/x-python",
   "name": "python",
   "nbconvert_exporter": "python",
   "pygments_lexer": "ipython3",
   "version": "3.6.2"
  }
 },
 "nbformat": 4,
 "nbformat_minor": 2
}
